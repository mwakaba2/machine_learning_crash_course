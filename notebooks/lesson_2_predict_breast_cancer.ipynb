{
 "cells": [
  {
   "cell_type": "code",
   "execution_count": 24,
   "metadata": {},
   "outputs": [
    {
     "data": {
      "text/html": [
       "<script>requirejs.config({paths: { 'plotly': ['https://cdn.plot.ly/plotly-latest.min']},});if(!window.Plotly) {{require(['plotly'],function(plotly) {window.Plotly=plotly;});}}</script>"
      ],
      "text/vnd.plotly.v1+html": [
       "<script>requirejs.config({paths: { 'plotly': ['https://cdn.plot.ly/plotly-latest.min']},});if(!window.Plotly) {{require(['plotly'],function(plotly) {window.Plotly=plotly;});}}</script>"
      ]
     },
     "metadata": {},
     "output_type": "display_data"
    }
   ],
   "source": [
    "import numpy as np\n",
    "import pandas as pd\n",
    "from plotly.offline import init_notebook_mode, iplot\n",
    "import plotly.graph_objs as go\n",
    "from sklearn.datasets import load_breast_cancer\n",
    "from sklearn.model_selection import train_test_split\n",
    "\n",
    "from IPython.display import Image\n",
    "init_notebook_mode(connected=True)"
   ]
  },
  {
   "cell_type": "code",
   "execution_count": 14,
   "metadata": {},
   "outputs": [],
   "source": [
    "breast_cancer = load_breast_cancer()"
   ]
  },
  {
   "cell_type": "code",
   "execution_count": 15,
   "metadata": {},
   "outputs": [],
   "source": [
    "column_names = np.append(breast_cancer.feature_names, 'target')\n",
    "breast_cancer_df = pd.DataFrame(data= np.c_[breast_cancer['data'], breast_cancer['target']],\n",
    "                     columns=column_names)"
   ]
  },
  {
   "cell_type": "code",
   "execution_count": 17,
   "metadata": {},
   "outputs": [
    {
     "data": {
      "text/plain": [
       "31"
      ]
     },
     "execution_count": 17,
     "metadata": {},
     "output_type": "execute_result"
    }
   ],
   "source": [
    "len(breast_cancer.feature_names) + 1"
   ]
  },
  {
   "cell_type": "code",
   "execution_count": 7,
   "metadata": {},
   "outputs": [],
   "source": [
    "def sigmoid(z):\n",
    "    return 1 / (1 + np.exp(-z))"
   ]
  },
  {
   "cell_type": "code",
   "execution_count": 172,
   "metadata": {},
   "outputs": [
    {
     "data": {
      "application/vnd.plotly.v1+json": {
       "data": [
        {
         "type": "scatter",
         "x": [
          -5,
          -4.795918367346939,
          -4.591836734693878,
          -4.387755102040816,
          -4.183673469387755,
          -3.979591836734694,
          -3.7755102040816326,
          -3.571428571428571,
          -3.36734693877551,
          -3.163265306122449,
          -2.9591836734693877,
          -2.7551020408163263,
          -2.5510204081632653,
          -2.3469387755102042,
          -2.142857142857143,
          -1.9387755102040813,
          -1.7346938775510203,
          -1.5306122448979593,
          -1.3265306122448979,
          -1.1224489795918364,
          -0.9183673469387754,
          -0.7142857142857144,
          -0.5102040816326525,
          -0.3061224489795915,
          -0.1020408163265305,
          0.1020408163265305,
          0.3061224489795915,
          0.5102040816326534,
          0.7142857142857144,
          0.9183673469387754,
          1.1224489795918373,
          1.3265306122448983,
          1.5306122448979593,
          1.7346938775510203,
          1.9387755102040813,
          2.1428571428571432,
          2.3469387755102042,
          2.5510204081632653,
          2.755102040816327,
          2.959183673469388,
          3.163265306122449,
          3.36734693877551,
          3.571428571428571,
          3.775510204081632,
          3.979591836734695,
          4.183673469387756,
          4.387755102040817,
          4.591836734693878,
          4.795918367346939,
          5
         ],
         "y": [
          0.0066928509242848554,
          0.008195682245394699,
          0.010032555186013372,
          0.012276025071468199,
          0.015013569057033847,
          0.018350241705691772,
          0.022411596418032444,
          0.02734678679618289,
          0.033331686533853294,
          0.040571758423092276,
          0.04930425596537221,
          0.059799151969359574,
          0.07235796333544683,
          0.08730940263865966,
          0.10500058502026482,
          0.12578244121862014,
          0.14998816555871142,
          0.1779041247108555,
          0.209733821699624,
          0.2455573055902638,
          0.2852906753756516,
          0.32865254651727,
          0.3751456852515014,
          0.424061486151752,
          0.4745119079463219,
          0.5254880920536781,
          0.575938513848248,
          0.6248543147484988,
          0.6713474534827301,
          0.7147093246243483,
          0.7544426944097363,
          0.790266178300376,
          0.8220958752891444,
          0.8500118344412885,
          0.87421755878138,
          0.8949994149797352,
          0.9126905973613403,
          0.9276420366645531,
          0.9402008480306404,
          0.9506957440346279,
          0.9594282415769078,
          0.9666683134661466,
          0.9726532132038171,
          0.9775884035819675,
          0.9816497582943083,
          0.9849864309429661,
          0.9877239749285319,
          0.9899674448139867,
          0.9918043177546053,
          0.9933071490757153
         ]
        }
       ],
       "layout": {
        "title": "Logistic Function (Sigmoid)",
        "xaxis": {
         "title": "X",
         "titlefont": {
          "color": "#7f7f7f",
          "family": "Courier New, monospace",
          "size": 18
         }
        },
        "yaxis": {
         "title": "Y",
         "titlefont": {
          "color": "#7f7f7f",
          "family": "Courier New, monospace",
          "size": 18
         }
        }
       }
      },
      "text/html": [
       "<div id=\"5494f287-f252-4149-b1f7-2a40e8cb1f3a\" style=\"height: 525px; width: 100%;\" class=\"plotly-graph-div\"></div><script type=\"text/javascript\">require([\"plotly\"], function(Plotly) { window.PLOTLYENV=window.PLOTLYENV || {};window.PLOTLYENV.BASE_URL=\"https://plot.ly\";Plotly.newPlot(\"5494f287-f252-4149-b1f7-2a40e8cb1f3a\", [{\"type\": \"scatter\", \"x\": [-5.0, -4.795918367346939, -4.591836734693878, -4.387755102040816, -4.183673469387755, -3.979591836734694, -3.7755102040816326, -3.571428571428571, -3.36734693877551, -3.163265306122449, -2.9591836734693877, -2.7551020408163263, -2.5510204081632653, -2.3469387755102042, -2.142857142857143, -1.9387755102040813, -1.7346938775510203, -1.5306122448979593, -1.3265306122448979, -1.1224489795918364, -0.9183673469387754, -0.7142857142857144, -0.5102040816326525, -0.3061224489795915, -0.1020408163265305, 0.1020408163265305, 0.3061224489795915, 0.5102040816326534, 0.7142857142857144, 0.9183673469387754, 1.1224489795918373, 1.3265306122448983, 1.5306122448979593, 1.7346938775510203, 1.9387755102040813, 2.1428571428571432, 2.3469387755102042, 2.5510204081632653, 2.755102040816327, 2.959183673469388, 3.163265306122449, 3.36734693877551, 3.571428571428571, 3.775510204081632, 3.979591836734695, 4.183673469387756, 4.387755102040817, 4.591836734693878, 4.795918367346939, 5.0], \"y\": [0.0066928509242848554, 0.008195682245394699, 0.010032555186013372, 0.012276025071468199, 0.015013569057033847, 0.018350241705691772, 0.022411596418032444, 0.02734678679618289, 0.033331686533853294, 0.040571758423092276, 0.04930425596537221, 0.059799151969359574, 0.07235796333544683, 0.08730940263865966, 0.10500058502026482, 0.12578244121862014, 0.14998816555871142, 0.1779041247108555, 0.209733821699624, 0.2455573055902638, 0.2852906753756516, 0.32865254651727, 0.3751456852515014, 0.424061486151752, 0.4745119079463219, 0.5254880920536781, 0.575938513848248, 0.6248543147484988, 0.6713474534827301, 0.7147093246243483, 0.7544426944097363, 0.790266178300376, 0.8220958752891444, 0.8500118344412885, 0.87421755878138, 0.8949994149797352, 0.9126905973613403, 0.9276420366645531, 0.9402008480306404, 0.9506957440346279, 0.9594282415769078, 0.9666683134661466, 0.9726532132038171, 0.9775884035819675, 0.9816497582943083, 0.9849864309429661, 0.9877239749285319, 0.9899674448139867, 0.9918043177546053, 0.9933071490757153]}], {\"title\": \"Logistic Function (Sigmoid)\", \"xaxis\": {\"title\": \"X\", \"titlefont\": {\"family\": \"Courier New, monospace\", \"size\": 18, \"color\": \"#7f7f7f\"}}, \"yaxis\": {\"title\": \"Y\", \"titlefont\": {\"family\": \"Courier New, monospace\", \"size\": 18, \"color\": \"#7f7f7f\"}}}, {\"showLink\": false, \"linkText\": \"Export to plot.ly\"})});</script>"
      ],
      "text/vnd.plotly.v1+html": [
       "<div id=\"5494f287-f252-4149-b1f7-2a40e8cb1f3a\" style=\"height: 525px; width: 100%;\" class=\"plotly-graph-div\"></div><script type=\"text/javascript\">require([\"plotly\"], function(Plotly) { window.PLOTLYENV=window.PLOTLYENV || {};window.PLOTLYENV.BASE_URL=\"https://plot.ly\";Plotly.newPlot(\"5494f287-f252-4149-b1f7-2a40e8cb1f3a\", [{\"type\": \"scatter\", \"x\": [-5.0, -4.795918367346939, -4.591836734693878, -4.387755102040816, -4.183673469387755, -3.979591836734694, -3.7755102040816326, -3.571428571428571, -3.36734693877551, -3.163265306122449, -2.9591836734693877, -2.7551020408163263, -2.5510204081632653, -2.3469387755102042, -2.142857142857143, -1.9387755102040813, -1.7346938775510203, -1.5306122448979593, -1.3265306122448979, -1.1224489795918364, -0.9183673469387754, -0.7142857142857144, -0.5102040816326525, -0.3061224489795915, -0.1020408163265305, 0.1020408163265305, 0.3061224489795915, 0.5102040816326534, 0.7142857142857144, 0.9183673469387754, 1.1224489795918373, 1.3265306122448983, 1.5306122448979593, 1.7346938775510203, 1.9387755102040813, 2.1428571428571432, 2.3469387755102042, 2.5510204081632653, 2.755102040816327, 2.959183673469388, 3.163265306122449, 3.36734693877551, 3.571428571428571, 3.775510204081632, 3.979591836734695, 4.183673469387756, 4.387755102040817, 4.591836734693878, 4.795918367346939, 5.0], \"y\": [0.0066928509242848554, 0.008195682245394699, 0.010032555186013372, 0.012276025071468199, 0.015013569057033847, 0.018350241705691772, 0.022411596418032444, 0.02734678679618289, 0.033331686533853294, 0.040571758423092276, 0.04930425596537221, 0.059799151969359574, 0.07235796333544683, 0.08730940263865966, 0.10500058502026482, 0.12578244121862014, 0.14998816555871142, 0.1779041247108555, 0.209733821699624, 0.2455573055902638, 0.2852906753756516, 0.32865254651727, 0.3751456852515014, 0.424061486151752, 0.4745119079463219, 0.5254880920536781, 0.575938513848248, 0.6248543147484988, 0.6713474534827301, 0.7147093246243483, 0.7544426944097363, 0.790266178300376, 0.8220958752891444, 0.8500118344412885, 0.87421755878138, 0.8949994149797352, 0.9126905973613403, 0.9276420366645531, 0.9402008480306404, 0.9506957440346279, 0.9594282415769078, 0.9666683134661466, 0.9726532132038171, 0.9775884035819675, 0.9816497582943083, 0.9849864309429661, 0.9877239749285319, 0.9899674448139867, 0.9918043177546053, 0.9933071490757153]}], {\"title\": \"Logistic Function (Sigmoid)\", \"xaxis\": {\"title\": \"X\", \"titlefont\": {\"family\": \"Courier New, monospace\", \"size\": 18, \"color\": \"#7f7f7f\"}}, \"yaxis\": {\"title\": \"Y\", \"titlefont\": {\"family\": \"Courier New, monospace\", \"size\": 18, \"color\": \"#7f7f7f\"}}}, {\"showLink\": false, \"linkText\": \"Export to plot.ly\"})});</script>"
      ]
     },
     "metadata": {},
     "output_type": "display_data"
    }
   ],
   "source": [
    "N = 5\n",
    "x_list = np.linspace(-N, N)\n",
    "y_list = np.array([sigmoid(x) for x in x_list])\n",
    "\n",
    "trace = go.Scatter(\n",
    "    x = x_list,\n",
    "    y = y_list\n",
    ")\n",
    "\n",
    "data = [trace]\n",
    "\n",
    "layout = go.Layout(\n",
    "    title='Logistic Function (Sigmoid)',\n",
    "    xaxis=dict(\n",
    "        title='X',\n",
    "        titlefont=dict(\n",
    "            family='Courier New, monospace',\n",
    "            size=18,\n",
    "            color='#7f7f7f'\n",
    "        )\n",
    "    ),\n",
    "    yaxis=dict(\n",
    "        title='Y',\n",
    "        titlefont=dict(\n",
    "            family='Courier New, monospace',\n",
    "            size=18,\n",
    "            color='#7f7f7f'\n",
    "        )\n",
    "    )\n",
    ")\n",
    "\n",
    "config={'showLink': False}\n",
    "fig = go.Figure(data=data, layout=layout)\n",
    "iplot(fig, filename='sigmoid', config=config)"
   ]
  },
  {
   "cell_type": "code",
   "execution_count": 137,
   "metadata": {},
   "outputs": [],
   "source": [
    "def cost_function(X, y, theta, deriv=False):\n",
    "    hypothesis = sigmoid(X.dot(theta))\n",
    "    error = hypothesis - y\n",
    "    \n",
    "    if deriv:\n",
    "        gradient = (1/m) * X.T.dot(error)\n",
    "        return gradient, error\n",
    "    else:\n",
    "        J = -(y * np.log(hypothesis) + (1-y) * np.log(1-hypothesis)).mean()\n",
    "        return J"
   ]
  },
  {
   "cell_type": "code",
   "execution_count": 138,
   "metadata": {},
   "outputs": [],
   "source": [
    "def gradient_descent(X, y, alpha, epochs, batch_size, theta):\n",
    "    cost_list = []\n",
    "    theta_list = []\n",
    "    \n",
    "    for epoch in range(epochs):\n",
    "        cost = cost_function(X, y, theta)\n",
    "        cost_list.append(cost)\n",
    "        theta_list.append(theta)\n",
    "        \n",
    "        gradient, error = cost_function(X, y, theta, deriv=True)\n",
    "        theta = theta - alpha * gradient\n",
    "        \n",
    "        if epoch % 1000 == 0:\n",
    "            print(f\"Cost: {cost}\")\n",
    "\n",
    "    return cost_list, theta_list"
   ]
  },
  {
   "cell_type": "code",
   "execution_count": 152,
   "metadata": {},
   "outputs": [],
   "source": [
    "X = breast_cancer.data\n",
    "ones = np.ones((breast_cancer.data.shape[0], 1))\n",
    "X = np.hstack((ones, X))\n",
    "y = breast_cancer.target.reshape(-1, 1)\n",
    "X_train, X_test, y_train, y_test = train_test_split(X, y, test_size=0.20, random_state=42)\n",
    "m = X_train.shape[0]"
   ]
  },
  {
   "cell_type": "code",
   "execution_count": 165,
   "metadata": {},
   "outputs": [
    {
     "data": {
      "text/plain": [
       "(31, 1)"
      ]
     },
     "execution_count": 165,
     "metadata": {},
     "output_type": "execute_result"
    }
   ],
   "source": [
    "epochs = 10000\n",
    "alpha = 0.00001\n",
    "theta = np.zeros(len(breast_cancer.feature_names) + 1).reshape(-1,1)\n",
    "batch_size = X_train.shape[0] # batch gradient descent\n",
    "theta.shape"
   ]
  },
  {
   "cell_type": "code",
   "execution_count": 166,
   "metadata": {},
   "outputs": [
    {
     "name": "stdout",
     "output_type": "stream",
     "text": [
      "Cost: 0.6931471805599453\n",
      "Cost: 0.2698996372684122\n",
      "Cost: 0.24453280399268248\n",
      "Cost: 0.2350154047195336\n",
      "Cost: 0.23000488467947905\n",
      "Cost: 0.22678614314300202\n",
      "Cost: 0.22441799084103636\n",
      "Cost: 0.22250839718139293\n",
      "Cost: 0.22087362812033262\n",
      "Cost: 0.21941984452930963\n"
     ]
    }
   ],
   "source": [
    "cost_list, theta_list = gradient_descent(X_train, y_train, \n",
    "                                         alpha, epochs, batch_size, theta)"
   ]
  },
  {
   "cell_type": "code",
   "execution_count": 167,
   "metadata": {},
   "outputs": [
    {
     "name": "stdout",
     "output_type": "stream",
     "text": [
      "[[ 1.92703781e-03]\n",
      " [ 1.35554847e-02]\n",
      " [ 3.60820302e-03]\n",
      " [ 6.97526196e-02]\n",
      " [ 1.50007303e-02]\n",
      " [ 7.88937131e-05]\n",
      " [-3.17891121e-04]\n",
      " [-5.87657683e-04]\n",
      " [-2.38962583e-04]\n",
      " [ 1.48930045e-04]\n",
      " [ 8.03135029e-05]\n",
      " [ 1.43977665e-04]\n",
      " [ 7.23420211e-04]\n",
      " [-8.92767882e-04]\n",
      " [-2.03585319e-02]\n",
      " [ 2.00443469e-06]\n",
      " [-8.34870861e-05]\n",
      " [-1.11410046e-04]\n",
      " [-2.51145348e-05]\n",
      " [ 5.29275936e-06]\n",
      " [-3.60122336e-06]\n",
      " [ 1.41606597e-02]\n",
      " [-1.00640685e-03]\n",
      " [ 6.08403155e-02]\n",
      " [-2.69886811e-02]\n",
      " [ 6.22253222e-05]\n",
      " [-1.19446183e-03]\n",
      " [-1.63175322e-03]\n",
      " [-4.17573006e-04]\n",
      " [ 2.96157208e-05]\n",
      " [ 3.20680483e-06]]\n"
     ]
    }
   ],
   "source": [
    "final_theta = theta_list[-1]\n",
    "print(final_theta)"
   ]
  },
  {
   "cell_type": "code",
   "execution_count": null,
   "metadata": {},
   "outputs": [],
   "source": []
  }
 ],
 "metadata": {
  "kernelspec": {
   "display_name": "Python 3",
   "language": "python",
   "name": "python3"
  },
  "language_info": {
   "codemirror_mode": {
    "name": "ipython",
    "version": 3
   },
   "file_extension": ".py",
   "mimetype": "text/x-python",
   "name": "python",
   "nbconvert_exporter": "python",
   "pygments_lexer": "ipython3",
   "version": "3.6.5"
  }
 },
 "nbformat": 4,
 "nbformat_minor": 2
}
